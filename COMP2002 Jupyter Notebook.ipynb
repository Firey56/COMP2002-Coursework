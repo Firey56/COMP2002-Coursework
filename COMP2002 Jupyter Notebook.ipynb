{
 "cells": [
  {
   "cell_type": "markdown",
   "metadata": {},
   "source": [
    "# COMP2002 Jupyter Notebook Template\n",
    "Jupyter Notebook for the 70% Coursework for COMP2002."
   ]
  },
  {
   "cell_type": "markdown",
   "metadata": {},
   "source": [
    "Task 1.1 - Data Preparation"
   ]
  },
  {
   "cell_type": "code",
   "execution_count": 1,
   "metadata": {},
   "outputs": [],
   "source": [
    "#Add all imports here\n",
    "from sklearn.model_selection import cross_val_score\n",
    "import pandas\n",
    "import numpy as np\n",
    "from sklearn.preprocessing import MinMaxScaler\n",
    "from sklearn.model_selection import train_test_split\n",
    "from sklearn import metrics\n",
    "from sklearn.ensemble import RandomForestRegressor\n",
    "import matplotlib.pyplot as plt\n",
    "from sklearn.neural_network import MLPRegressor\n",
    "from sklearn.svm import SVR"
   ]
  },
  {
   "cell_type": "code",
   "execution_count": 2,
   "metadata": {},
   "outputs": [],
   "source": [
    "#Data preparation\n",
    "columnNames = [\"X1\",\"X2\",\"X3\",\"X4\",\"X5\",\"X6\",\"X7\",\"X8\",\"Y1\",\"Y2\"]\n",
    "data = pandas.read_excel(\"COMP2002Data.xlsx\", names = columnNames)\n",
    "values = data.values\n",
    "inputs = values[:,:8].astype(float)\n",
    "targets = values[:,8:].astype(float)\n",
    "scaler = MinMaxScaler()\n",
    "scaled = scaler.fit_transform(inputs)\n",
    "X_train, X_test, Y_train, Y_test = train_test_split(scaled, targets)"
   ]
  },
  {
   "cell_type": "markdown",
   "metadata": {},
   "source": [
    "Task 1.2 - Regression"
   ]
  },
  {
   "cell_type": "markdown",
   "metadata": {},
   "source": [
    "Random Forest"
   ]
  },
  {
   "cell_type": "code",
   "execution_count": 3,
   "metadata": {},
   "outputs": [],
   "source": [
    "#RandomForestGenerator regressor code\n",
    "\n",
    "regressorRandomForest = RandomForestRegressor(max_depth=20)\n",
    "regressorRandomForest.fit(X_train, Y_train)\n",
    "Y_pred = regressorRandomForest.predict(X_test)\n",
    "\n",
    "#End of RandomForestGenerator regressor code"
   ]
  },
  {
   "cell_type": "code",
   "execution_count": 4,
   "metadata": {},
   "outputs": [],
   "source": [
    "#NeuralNetwork regressor code\n",
    "\n",
    "regressorMLP = MLPRegressor(max_iter=16000)\n",
    "regressorMLP.fit(X_train, Y_train)\n",
    "Y_pred = regressorMLP.predict(X_test)\n",
    "\n",
    "#End of NeuralNetwork regressor code"
   ]
  },
  {
   "cell_type": "code",
   "execution_count": 5,
   "metadata": {},
   "outputs": [],
   "source": [
    "#SVR Regressor Code\n",
    "\n",
    "regressorSVR = SVR(max_iter=10000)\n",
    "regressorSVR2 = SVR(max_iter=10000)\n",
    "regressorSVR.fit(X_train,Y_train[:,0])\n",
    "regressorSVR2.fit(X_train,Y_train[:,1])\n",
    "Y_pred = regressorSVR.predict(X_test)\n",
    "X_pred = regressorSVR2.predict(X_test)\n",
    "\n",
    "#End of SVR Regressor code"
   ]
  },
  {
   "cell_type": "markdown",
   "metadata": {},
   "source": [
    "Task 1.3 - Cross Validation"
   ]
  },
  {
   "cell_type": "code",
   "execution_count": 32,
   "metadata": {},
   "outputs": [
    {
     "data": {
      "image/png": "[encoded data removed]",
      "text/plain": [
       "<Figure size 432x288 with 1 Axes>"
      ]
     },
     "metadata": {
      "needs_background": "light"
     },
     "output_type": "display_data"
    },
    {
     "data": {
      "image/png": "[encoded data removed]",
      "text/plain": [
       "<Figure size 432x288 with 1 Axes>"
      ]
     },
     "metadata": {
      "needs_background": "light"
     },
     "output_type": "display_data"
    }
   ],
   "source": [
    "#Cross validation for each of the training scores\n",
    "scoresRandomForest = cross_val_score(regressorRandomForest, X_train, Y_train, cv=5, scoring='neg_mean_squared_error')\n",
    "scoresMLP = cross_val_score(regressorMLP, X_train, Y_train, cv=5, scoring='neg_mean_squared_error')\n",
    "scoresSVR = cross_val_score(regressorSVR, X_train, Y_train[:,0], cv=5, scoring='neg_mean_squared_error')\n",
    "scoresSVR2 = cross_val_score(regressorSVR2, X_train, Y_train[:,1], cv=5, scoring='neg_mean_squared_error')\n",
    "#Making all the training validation positive\n",
    "scoresRandomForest = np.abs(scoresRandomForest)\n",
    "scoresMLP = np.abs(scoresMLP)\n",
    "scoresSVR = np.abs(scoresSVR)\n",
    "scoresSVR2 = np.abs(scoresSVR2)\n",
    "#Cross validation for each of the testing scores\n",
    "test_scoresRandomForest = cross_val_score(regressorRandomForest, X_test, Y_test, cv=5, scoring='neg_mean_squared_error')\n",
    "test_scoresMLP = cross_val_score(regressorMLP, X_test, Y_test, cv=5, scoring='neg_mean_squared_error')\n",
    "test_scoresSVR = cross_val_score(regressorSVR, X_test, Y_test[:,0], cv=5, scoring='neg_mean_squared_error')\n",
    "test_scoresSVR2 = cross_val_score(regressorSVR2, X_test, Y_test[:,1], cv=5, scoring='neg_mean_squared_error')\n",
    "\n",
    "#Making all the testing validation positive\n",
    "test_scoresRandomForest = np.abs(test_scoresRandomForest)\n",
    "test_scoresMLP = np.abs(test_scoresMLP)\n",
    "test_scoresSVR = np.abs(test_scoresSVR)\n",
    "test_scoresSVR2 = np.abs(test_scoresSVR2)\n",
    "\n",
    "###Plotting the training validation data onto a boxplot\n",
    "\n",
    "plt.boxplot([scoresRandomForest, scoresMLP, scoresSVR, scoresSVR2])\n",
    "plt.suptitle('Energy Efficiency in Buildings Training Data', fontsize=14, fontweight='bold')\n",
    "plt.ylabel('Mean Squared Error')\n",
    "plt.xticks([1,2,3,4], ['Random Forest', 'MLP', 'SVR', 'SVR2'])\n",
    "plt.show()\n",
    "\n",
    "###Plotting the testing validation data onto a boxplot\n",
    "plt.boxplot([test_scoresRandomForest, test_scoresMLP, test_scoresSVR, test_scoresSVR2])\n",
    "plt.suptitle('Energy Efficiency in Buildings Testing Data', fontsize=14, fontweight='bold')\n",
    "plt.ylabel('Mean Squared Error')\n",
    "plt.xticks([1,2,3,4], ['Random Forest', 'MLP', 'SVR', 'SVR2'])\n",
    "plt.show()"
   ]
  },
  {
   "cell_type": "markdown",
   "metadata": {},
   "source": [
    "# Task 2: Optimisation"
   ]
  },
  {
   "cell_type": "code",
   "execution_count": 26,
   "metadata": {},
   "outputs": [
    {
     "data": {
      "text/html": [
       "<div>\n",
       "<style scoped>\n",
       "    .dataframe tbody tr th:only-of-type {\n",
       "        vertical-align: middle;\n",
       "    }\n",
       "\n",
       "    .dataframe tbody tr th {\n",
       "        vertical-align: top;\n",
       "    }\n",
       "\n",
       "    .dataframe thead th {\n",
       "        text-align: right;\n",
       "    }\n",
       "</style>\n",
       "<table border=\"1\" class=\"dataframe\">\n",
       "  <thead>\n",
       "    <tr style=\"text-align: right;\">\n",
       "      <th></th>\n",
       "      <th>0</th>\n",
       "      <th>1</th>\n",
       "      <th>2</th>\n",
       "      <th>3</th>\n",
       "    </tr>\n",
       "  </thead>\n",
       "  <tbody>\n",
       "    <tr>\n",
       "      <th>0</th>\n",
       "      <td>MOD001</td>\n",
       "      <td>Zacharias Karstensen</td>\n",
       "      <td>2</td>\n",
       "      <td>MOD002,MOD003,MOD004,MOD005,MOD006,MOD007,MOD0...</td>\n",
       "    </tr>\n",
       "    <tr>\n",
       "      <th>1</th>\n",
       "      <td>MOD002</td>\n",
       "      <td>Dominykas Cleary</td>\n",
       "      <td>2</td>\n",
       "      <td>MOD001,MOD003,MOD004,MOD005,MOD006,MOD007,MOD0...</td>\n",
       "    </tr>\n",
       "    <tr>\n",
       "      <th>2</th>\n",
       "      <td>MOD003</td>\n",
       "      <td>Zacharias Karstensen</td>\n",
       "      <td>2</td>\n",
       "      <td>MOD001,MOD002,MOD004,MOD005,MOD006,MOD007,MOD0...</td>\n",
       "    </tr>\n",
       "    <tr>\n",
       "      <th>3</th>\n",
       "      <td>MOD004</td>\n",
       "      <td>Laila Deniau</td>\n",
       "      <td>1</td>\n",
       "      <td>MOD001,MOD002,MOD003,MOD005,MOD006,MOD007,MOD0...</td>\n",
       "    </tr>\n",
       "    <tr>\n",
       "      <th>4</th>\n",
       "      <td>MOD005</td>\n",
       "      <td>Brahma O Braonain</td>\n",
       "      <td>2</td>\n",
       "      <td>MOD001,MOD002,MOD003,MOD004,MOD006,MOD007,MOD0...</td>\n",
       "    </tr>\n",
       "  </tbody>\n",
       "</table>\n",
       "</div>"
      ],
      "text/plain": [
       "        0                     1  2  \\\n",
       "0  MOD001  Zacharias Karstensen  2   \n",
       "1  MOD002      Dominykas Cleary  2   \n",
       "2  MOD003  Zacharias Karstensen  2   \n",
       "3  MOD004          Laila Deniau  1   \n",
       "4  MOD005     Brahma O Braonain  2   \n",
       "\n",
       "                                                   3  \n",
       "0  MOD002,MOD003,MOD004,MOD005,MOD006,MOD007,MOD0...  \n",
       "1  MOD001,MOD003,MOD004,MOD005,MOD006,MOD007,MOD0...  \n",
       "2  MOD001,MOD002,MOD004,MOD005,MOD006,MOD007,MOD0...  \n",
       "3  MOD001,MOD002,MOD003,MOD005,MOD006,MOD007,MOD0...  \n",
       "4  MOD001,MOD002,MOD003,MOD004,MOD006,MOD007,MOD0...  "
      ]
     },
     "execution_count": 26,
     "metadata": {},
     "output_type": "execute_result"
    }
   ],
   "source": [
    "#Read in the data from the txt file\n",
    "data = pandas.read_csv(\"Modules.txt\", sep = \"|\", header = None)\n",
    "\n",
    "#Set the concurrence restraints of the modules\n",
    "data.head()\n"
   ]
  },
  {
   "cell_type": "code",
   "execution_count": 31,
   "metadata": {},
   "outputs": [
    {
     "name": "stdout",
     "output_type": "stream",
     "text": [
      "MOD001 Zacharias Karstensen 2 MOD002,MOD003,MOD004,MOD005,MOD006,MOD007,MOD008,MOD009,MOD010,MOD013\n",
      "MOD002 Dominykas Cleary 2 MOD001,MOD003,MOD004,MOD005,MOD006,MOD007,MOD008,MOD009,MOD010,MOD013\n",
      "MOD003 Zacharias Karstensen 2 MOD001,MOD002,MOD004,MOD005,MOD006,MOD007,MOD008,MOD009,MOD010,MOD011,MOD012,MOD013\n",
      "MOD004 Laila Deniau 1 MOD001,MOD002,MOD003,MOD005,MOD006,MOD007,MOD008,MOD009,MOD010,MOD011,MOD012,MOD013\n",
      "MOD005 Brahma O Braonain 2 MOD001,MOD002,MOD003,MOD004,MOD006,MOD007,MOD008,MOD009,MOD010,MOD011,MOD012\n",
      "MOD006 Brahma O Braonain 3 MOD001,MOD002,MOD003,MOD004,MOD005,MOD007,MOD008,MOD009,MOD010,MOD011,MOD012\n",
      "MOD007 Ruh Kerekes 1 MOD001,MOD002,MOD003,MOD004,MOD005,MOD006,MOD008,MOD009,MOD010,MOD011,MOD014,MOD015,MOD016,MOD017\n",
      "MOD008 Brahma O Braonain 2 MOD001,MOD002,MOD003,MOD004,MOD005,MOD006,MOD007,MOD009,MOD010,MOD011,MOD012,MOD014,MOD015\n",
      "MOD009 Dominykas Cleary 3 MOD001,MOD002,MOD003,MOD004,MOD005,MOD006,MOD007,MOD008,MOD010,MOD011,MOD012,MOD013\n",
      "MOD010 Dominykas Cleary 2 MOD001,MOD002,MOD003,MOD004,MOD005,M0D006,MOD007,MOD008,MOD009,MOD013\n",
      "MOD011 Sumon Kyle 2 MOD003,MOD004,MOD005,MOD006,MOD007,MOD008,MOD009,MOD012,MOD014,MOD015,MOD016,MOD017\n",
      "MOD012 Minu Senft 2 MOD003,MOD04,MOD005,MOD006,MOD007,MOD008,MOD009,MOD011,MOD014,MOD015\n",
      "MOD013 Laila Deniau 1 MOD001,MOD002,MOD003,MOD004,MOD009,MOD010\n",
      "MOD014 Sumon Kyle 2 MOD007,MOD008,M0D011,MOD012,MOD015,MOD016,MOD017\n",
      "MOD015 Minu Senft 2 MOD007,MOD008,MOD011,MOD012,MOD014,MOD016,MOD017\n",
      "MOD016 Ruh Kerekes 1 MOD007,MOD008,MOD011,MOD012,MOD014,MOD015,MOD017\n",
      "MOD017 Ruh Kerekes 1 MOD007,MOD008,MOD011,MOD012,MOD014,MOD015,MOD016\n"
     ]
    }
   ],
   "source": [
    "#Make a module class\n",
    "class Module:\n",
    "    def __init__(self, moduleName, moduleLeader, labs, clashes):\n",
    "        self.moduleName = moduleName\n",
    "        self.moduleLeader = moduleLeader\n",
    "        self.labs = labs\n",
    "        self.clashes = clashes\n",
    "\n",
    "#Iterate through the data and create a module object for each row\n",
    "list = []\n",
    "for index, row in data.iterrows():\n",
    "    list.append(Module(row[0], row[1], row[2], row[3]))\n",
    "\n",
    "#for loop\n",
    "for i in range(len(list)):\n",
    "    print(list[i].moduleName, list[i].moduleLeader, list[i].labs, list[i].clashes)"
   ]
  },
  {
   "cell_type": "code",
   "execution_count": null,
   "metadata": {},
   "outputs": [],
   "source": [
    "#Create a list of the amount of times each module is going to be used\n",
    "moduleCount = []\n",
    "for i in range(len(list)):\n",
    "    for j in range(len(list)):\n",
    "        "
   ]
  }
 ],
 "metadata": {
  "kernelspec": {
   "display_name": "Python 3",
   "language": "python",
   "name": "python3"
  },
  "language_info": {
   "codemirror_mode": {
    "name": "ipython",
    "version": 3
   },
   "file_extension": ".py",
   "mimetype": "text/x-python",
   "name": "python",
   "nbconvert_exporter": "python",
   "pygments_lexer": "ipython3",
   "version": "3.10.4"
  }
 },
 "nbformat": 4,
 "nbformat_minor": 2
}
