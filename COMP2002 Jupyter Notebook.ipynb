{
 "cells": [
  {
   "cell_type": "markdown",
   "metadata": {},
   "source": [
    "# COMP2002 Jupyter Notebook Template\n",
    "Jupyter Notebook for the 70% Coursework for COMP2002."
   ]
  },
  {
   "cell_type": "markdown",
   "metadata": {},
   "source": [
    "Task 1.1 - Data Preparation"
   ]
  },
  {
   "cell_type": "code",
   "execution_count": 17,
   "metadata": {},
   "outputs": [],
   "source": [
    "import pandas as pd\n",
    "import numpy as np\n",
    "from sklearn.preprocessing import MinMaxScaler\n",
    "from sklearn.model_selection import train_test_split\n",
    "columnNames = [\"X1\",\"X2\",\"X3\",\"X4\",\"X5\",\"X6\",\"X7\",\"X8\",\"Y1\",\"Y2\"]\n",
    "data = pd.read_excel(\"COMP2002Data.xlsx\", names = columnNames)\n",
    "values = data.values\n",
    "inputs = values[:,:8].astype(float)\n",
    "targets = values[:,8:].astype(float)\n",
    "scaler = MinMaxScaler()\n",
    "scaled = scaler.fit_transform(inputs)\n",
    "X_train, X_test, Y_train, Y_test = train_test_split(scaled, targets)"
   ]
  },
  {
   "cell_type": "markdown",
   "metadata": {},
   "source": [
    "Task 1.2 - Regression"
   ]
  },
  {
   "cell_type": "code",
   "execution_count": 22,
   "metadata": {},
   "outputs": [
    {
     "name": "stdout",
     "output_type": "stream",
     "text": [
      "Mean Absolute Error: 0.7111365225693981\n",
      "Mean Squared Error: 1.822896626750373\n",
      "Root Mean Squared Error: 1.3501468908049867\n"
     ]
    }
   ],
   "source": [
    "from sklearn import metrics\n",
    "#RandomForestGenerator prediction\n",
    "from sklearn.ensemble import RandomForestRegressor\n",
    "regressor = RandomForestRegressor(n_estimators=3000)\n",
    "regressor.fit(X_train, Y_train)\n",
    "y_pred = regressor.predict(X_test)\n",
    "#End of RandomForestGenerator prediction\n",
    "\n",
    "#NeuralNetwork using MLPRegressor\n",
    "\n"
   ]
  }
 ],
 "metadata": {
  "kernelspec": {
   "display_name": "Python 3",
   "language": "python",
   "name": "python3"
  },
  "language_info": {
   "codemirror_mode": {
    "name": "ipython",
    "version": 3
   },
   "file_extension": ".py",
   "mimetype": "text/x-python",
   "name": "python",
   "nbconvert_exporter": "python",
   "pygments_lexer": "ipython3",
   "version": "3.10.4"
  }
 },
 "nbformat": 4,
 "nbformat_minor": 2
}
