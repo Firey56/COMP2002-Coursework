{
 "cells": [
  {
   "cell_type": "markdown",
   "metadata": {},
   "source": [
    "# COMP2002 Jupyter Notebook Template\n",
    "Jupyter Notebook for the 70% Coursework for COMP2002."
   ]
  },
  {
   "cell_type": "markdown",
   "metadata": {},
   "source": [
    "Task 1.1 - Data Preparation"
   ]
  },
  {
   "cell_type": "code",
   "execution_count": 1,
   "metadata": {},
   "outputs": [],
   "source": [
    "#Add all imports here\n",
    "from sklearn.model_selection import cross_val_score\n",
    "import random\n",
    "import pandas\n",
    "import numpy as np\n",
    "from sklearn.preprocessing import MinMaxScaler\n",
    "from sklearn.model_selection import train_test_split\n",
    "from sklearn import metrics\n",
    "from sklearn.ensemble import RandomForestRegressor\n",
    "import matplotlib.pyplot as plt\n",
    "from sklearn.neural_network import MLPRegressor\n",
    "from sklearn.svm import SVR"
   ]
  },
  {
   "cell_type": "code",
   "execution_count": 25,
   "metadata": {},
   "outputs": [],
   "source": [
    "#Data preparation\n",
    "columnNames = [\"X1\",\"X2\",\"X3\",\"X4\",\"X5\",\"X6\",\"X7\",\"X8\",\"Y1\",\"Y2\"]\n",
    "data = pandas.read_excel(\"COMP2002Data.xlsx\", names = columnNames)\n",
    "values = data.values\n",
    "inputs = values[:,:8].astype(float)\n",
    "targets = values[:,8:].astype(float)\n",
    "scaler = MinMaxScaler()\n",
    "scaled = scaler.fit_transform(inputs)\n",
    "X_train, X_test, Y_train, Y_test = train_test_split(scaled, targets)"
   ]
  },
  {
   "cell_type": "markdown",
   "metadata": {},
   "source": [
    "Task 1.2 - Regression"
   ]
  },
  {
   "cell_type": "markdown",
   "metadata": {},
   "source": [
    "Random Forest"
   ]
  },
  {
   "cell_type": "code",
   "execution_count": 26,
   "metadata": {},
   "outputs": [
    {
     "name": "stdout",
     "output_type": "stream",
     "text": [
      "MSE: 2.1973989274343806\n"
     ]
    }
   ],
   "source": [
    "#RandomForestGenerator regressor code\n",
    "\n",
    "regressorRandomForest = RandomForestRegressor(max_depth=20)\n",
    "regressorRandomForest.fit(X_train, Y_train)\n",
    "Y_pred = regressorRandomForest.predict(X_test)\n",
    "\n",
    "print(\"MSE:\",metrics.mean_squared_error(Y_test, Y_pred))\n",
    "#End of RandomForestGenerator regressor code"
   ]
  },
  {
   "cell_type": "code",
   "execution_count": 39,
   "metadata": {},
   "outputs": [
    {
     "name": "stdout",
     "output_type": "stream",
     "text": [
      "MSE: 1.506538091289684\n"
     ]
    }
   ],
   "source": [
    "#NeuralNetwork regressor code\n",
    "\n",
    "regressorMLP = MLPRegressor(max_iter=16000)\n",
    "regressorMLP.fit(X_train, Y_train)\n",
    "Y_pred = regressorMLP.predict(X_test)\n",
    "\n",
    "print(\"MSE:\",metrics.mean_squared_error(Y_test, Y_pred))\n",
    "#End of NeuralNetwork regressor code"
   ]
  },
  {
   "cell_type": "code",
   "execution_count": 42,
   "metadata": {},
   "outputs": [
    {
     "name": "stdout",
     "output_type": "stream",
     "text": [
      "MSE: 601.5779950576099\n",
      "MSE: 677.0795131340121\n"
     ]
    }
   ],
   "source": [
    "#SVR Regressor Code\n",
    "\n",
    "regressorSVR = SVR()\n",
    "regressorSVR2 = SVR()\n",
    "regressorSVR.fit(X_train,Y_train[:,0])\n",
    "regressorSVR2.fit(X_train,Y_train[:,1])\n",
    "Y_pred = regressorSVR.predict(X_test)\n",
    "X_pred = regressorSVR2.predict(X_test)\n",
    "\n",
    "mseSVR1 = metrics.mean_squared_error(X_test[:,0], Y_pred)\n",
    "mseSVR2 = metrics.mean_squared_error(X_test[:,1], X_pred)\n",
    "\n",
    "\n",
    "print(\"MSE:\",mseSVR1)\n",
    "print(\"MSE:\",mseSVR2)\n",
    "\n",
    "#End of SVR Regressor code"
   ]
  },
  {
   "cell_type": "markdown",
   "metadata": {},
   "source": [
    "Task 1.3 - Cross Validation"
   ]
  },
  {
   "cell_type": "code",
   "execution_count": 41,
   "metadata": {},
   "outputs": [
    {
     "data": {
      "image/png": "[encoded data removed]",
      "text/plain": [
       "<Figure size 432x288 with 1 Axes>"
      ]
     },
     "metadata": {
      "needs_background": "light"
     },
     "output_type": "display_data"
    },
    {
     "data": {
      "image/png": "[encoded data removed]",
      "text/plain": [
       "<Figure size 432x288 with 1 Axes>"
      ]
     },
     "metadata": {
      "needs_background": "light"
     },
     "output_type": "display_data"
    }
   ],
   "source": [
    "#Cross validation for each of the training scores\n",
    "scoresRandomForest = cross_val_score(regressorRandomForest, X_train, Y_train, cv=5, scoring='neg_mean_squared_error')\n",
    "scoresMLP = cross_val_score(regressorMLP, X_train, Y_train, cv=5, scoring='neg_mean_squared_error')\n",
    "scoresSVR = cross_val_score(regressorSVR, X_train, Y_train[:,0], cv=5, scoring='neg_mean_squared_error')\n",
    "scoresSVR2 = cross_val_score(regressorSVR2, X_train, Y_train[:,1], cv=5, scoring='neg_mean_squared_error')\n",
    "#Making all the training validation positive\n",
    "scoresRandomForest = np.abs(scoresRandomForest)\n",
    "scoresMLP = np.abs(scoresMLP)\n",
    "scoresSVR = np.abs(scoresSVR)\n",
    "scoresSVR2 = np.abs(scoresSVR2)\n",
    "#Cross validation for each of the testing scores\n",
    "test_scoresRandomForest = cross_val_score(regressorRandomForest, X_test, Y_test, cv=5, scoring='neg_mean_squared_error')\n",
    "test_scoresMLP = cross_val_score(regressorMLP, X_test, Y_test, cv=5, scoring='neg_mean_squared_error')\n",
    "test_scoresSVR = cross_val_score(regressorSVR, X_test, Y_test[:,0], cv=5, scoring='neg_mean_squared_error')\n",
    "test_scoresSVR2 = cross_val_score(regressorSVR2, X_test, Y_test[:,1], cv=5, scoring='neg_mean_squared_error')\n",
    "\n",
    "#Making all the testing validation positive\n",
    "test_scoresRandomForest = np.abs(test_scoresRandomForest)\n",
    "test_scoresMLP = np.abs(test_scoresMLP)\n",
    "test_scoresSVR = np.abs(test_scoresSVR)\n",
    "test_scoresSVR2 = np.abs(test_scoresSVR2)\n",
    "\n",
    "###Plotting the training validation data onto a boxplot\n",
    "\n",
    "plt.boxplot([scoresRandomForest, scoresMLP, scoresSVR, scoresSVR2])\n",
    "plt.suptitle('Energy Efficiency in Buildings Training Data', fontsize=14, fontweight='bold')\n",
    "plt.ylabel('Mean Squared Error')\n",
    "plt.xticks([1,2,3,4], ['Random Forest', 'MLP', 'SVR', 'SVR2'])\n",
    "plt.show()\n",
    "\n",
    "###Plotting the testing validation data onto a boxplot\n",
    "plt.boxplot([test_scoresRandomForest, test_scoresMLP, test_scoresSVR, test_scoresSVR2])\n",
    "plt.suptitle('Energy Efficiency in Buildings Testing Data', fontsize=14, fontweight='bold')\n",
    "plt.ylabel('Mean Squared Error')\n",
    "plt.xticks([1,2,3,4], ['Random Forest', 'MLP', 'SVR', 'SVR2'])\n",
    "plt.show()"
   ]
  },
  {
   "cell_type": "markdown",
   "metadata": {},
   "source": [
    "# Task 2: Optimisation"
   ]
  },
  {
   "cell_type": "markdown",
   "metadata": {},
   "source": [
    "Task 2.1: Generation of Random Solutions\n",
    "\n",
    "Reads in the file, creates a timetable of Objects and first mutation function, RuinAndRecreate"
   ]
  },
  {
   "cell_type": "code",
   "execution_count": 14,
   "metadata": {},
   "outputs": [],
   "source": [
    "#Variable that reads the data from the txt file\n",
    "data = pandas.read_csv(\"Modules.txt\", sep = \"|\", header = None)\n",
    "#Module class to hold objects\n",
    "class Module:\n",
    "    def __init__(self, moduleName, moduleLeader, labs, clashes, isLab):\n",
    "        self.moduleName = moduleName\n",
    "        self.moduleLeader = moduleLeader\n",
    "        self.labs = labs\n",
    "        self.clashes = clashes\n",
    "        self.isLab = isLab\n",
    "\n",
    "#An array that will hold all the information about the specific module\n",
    "list = []\n",
    "for index, row in data.iterrows():\n",
    "    list.append(Module(row[0], row[1], row[2], row[3], False))\n",
    "\n",
    "\n",
    "#Ruin and recreate function, takes in a timetable and returns a new generated one\n",
    "def RuinAndRecreate(timetable):\n",
    "    #Creates the module list with the amount of times it has to go into the timetable\n",
    "    moduleAmount = []\n",
    "    for i in range(len(list)):\n",
    "        moduleAmount.append(list[i])\n",
    "        for j in range(int(list[i].labs)):\n",
    "            moduleAmount.append(Module(\n",
    "                list[i].moduleName,\n",
    "                list[i].moduleLeader,\n",
    "                list[i].labs,\n",
    "                list[i].clashes,\n",
    "                True\n",
    "            ))\n",
    "    #Make sure that the frame gets filled\n",
    "    while(len(moduleAmount) < 60):\n",
    "        moduleAmount.append(Module(\"\", \"\", 0, 0, False))\n",
    "    #Shuffled the array for a random solution\n",
    "    np.random.shuffle(moduleAmount)\n",
    "    df = pandas.DataFrame(columns=['LEC1','LAB1','LAB2'],index=range(0,20))\n",
    "    j = 0\n",
    "    k = 0\n",
    "    for i in range(len(moduleAmount)):\n",
    "        if i < 20:\n",
    "            df.loc[i, 'LEC1'] = moduleAmount[i]\n",
    "        elif i >= 20 and i < 40:\n",
    "            df.loc[j, 'LAB1'] = moduleAmount[i]\n",
    "            j += 1\n",
    "        elif i >= 40 and i < 60:\n",
    "            df.loc[k, 'LAB2'] = moduleAmount[i]\n",
    "            k += 1\n",
    "    return df\n",
    "#End of RuinAndRecreate\n"
   ]
  },
  {
   "cell_type": "markdown",
   "metadata": {},
   "source": [
    "Second mutation function, swap session:"
   ]
  },
  {
   "cell_type": "code",
   "execution_count": 13,
   "metadata": {},
   "outputs": [],
   "source": [
    "#Second mutation function, swaps modules\n",
    "def swapSession(timetable):\n",
    "    #Choose the two random columns\n",
    "    column1, column2 = random.randint(0,2), random.randint(0,2)\n",
    "\n",
    "    #Generate two random rows\n",
    "    row1, row2 = random.randint(0,19), random.randint(0,19)\n",
    "    #Check row1 and row2 aren't the same if column1 and column2 are\n",
    "    if column1 == column2 & row1 == row2:\n",
    "        return swapSession(timetable)\n",
    "    #If not the same    \n",
    "    #Select the value from the row\n",
    "    match column1:\n",
    "        case 0:\n",
    "            column1Value = 'LEC1'\n",
    "        case 1:\n",
    "            column1Value = 'LAB1'\n",
    "        case 2:\n",
    "            column1Value = 'LAB2'\n",
    "    match column2:\n",
    "        case 0:\n",
    "            column2Value = 'LEC1'\n",
    "        case 1:\n",
    "            column2Value = 'LAB1'\n",
    "        case 2:\n",
    "            column2Value = 'LAB2'\n",
    "    #Select the value\n",
    "    temp = timetable.loc[row1, column1Value]\n",
    "\n",
    "    #Swap the values\n",
    "    timetable.loc[row1, column1Value] = timetable.loc[row2, column2Value]\n",
    "    timetable.loc[row2, column2Value] = temp\n",
    "    return timetable\n",
    "    #End of mutation function swapSession"
   ]
  },
  {
   "cell_type": "markdown",
   "metadata": {},
   "source": [
    "Fitness Function:"
   ]
  },
  {
   "cell_type": "code",
   "execution_count": 12,
   "metadata": {},
   "outputs": [],
   "source": [
    "#Concurrence Constraints\n",
    "def concurrence_constraints(timetable):\n",
    "    concurrence = 0\n",
    "    for i in range(len(timetable)):\n",
    "        #Get a list of the clashes for the Lecture\n",
    "        currentModuleClashes = timetable.loc[i, 'LEC1'].clashes\n",
    "        currentModuleClashes = str(currentModuleClashes).split(\",\")#Split because python is weird\n",
    "        if timetable.loc[i, 'LAB1'].moduleName in currentModuleClashes:#Checks if the option in LAB1 is in the clashes\n",
    "            concurrence += 1\n",
    "        if timetable.loc[i, 'LAB2'].moduleName in currentModuleClashes:#Checks if the option in LAB2 is in the clashes\n",
    "            concurrence += 1\n",
    "        currentModuleClashes = timetable.loc[i, 'LAB1'].clashes#Check if LAB1 and LAB2 clash\n",
    "        currentModuleClashes = str(currentModuleClashes).split(\",\")\n",
    "        if timetable.loc[i, 'LAB2'].moduleName in currentModuleClashes:\n",
    "            concurrence += 1\n",
    "        \n",
    "        if timetable.loc[i, 'LEC1'].moduleName == timetable.loc[i, 'LAB1'].moduleName:#Check if lecture is repeated\n",
    "            concurrence += 1\n",
    "        if timetable.loc[i, 'LEC1'].moduleName == timetable.loc[i, 'LAB2'].moduleName:\n",
    "            concurrence += 1\n",
    "        if timetable.loc[i, 'LAB1'].moduleName == timetable.loc[i, 'LAB2'].moduleName:\n",
    "            concurrence += 1\n",
    "    return concurrence\n",
    "    #concurrence_restraints(RuinAndRecreate())\n",
    "#End of concurrence constraints\n",
    "\n",
    "#Precedence Constraints\n",
    "def precendence_constraints(timetable):\n",
    "    #Iterate through the timetable\n",
    "    #If not, add to the list of lecturesInTimetable\n",
    "    #If a lab is found in a lab room, check that the lecture has already been found\n",
    "    #If it has been found, make sure that it is above in the timetable\n",
    "    precedence = 0\n",
    "    lecturesInTimetable = []\n",
    "    for i in range(len(timetable)):\n",
    "        if timetable.loc[i, 'LEC1'].isLab == True:\n",
    "            if timetable.loc[i, 'LEC1'].moduleName not in lecturesInTimetable:\n",
    "                precedence += 1\n",
    "        else:\n",
    "            if timetable.loc[i, 'LEC1'].moduleName not in lecturesInTimetable:\n",
    "                for j in range(i, 0, -1):\n",
    "                    if timetable.loc[j, 'LAB1'].moduleName == timetable.loc[i, 'LEC1'].moduleName:\n",
    "                        if timetable.loc[j, 'LAB1'].isLab == True:\n",
    "                            precedence += 1\n",
    "                    elif timetable.loc[j, 'LAB2'].moduleName == timetable.loc[i, 'LEC1'].moduleName:\n",
    "                        if timetable.loc[j, 'LAB2'].isLab == True:\n",
    "                            precedence += 1\n",
    "                    else:\n",
    "                        lecturesInTimetable.append(timetable.loc[i, 'LEC1'].moduleName)\n",
    "    return precedence\n",
    "    #precedence_restraints(RuinAndRecreate())\n",
    "    #End of precedence constraints\n",
    "\n",
    "def fitness(timetable):\n",
    "    return concurrence_constraints(timetable) * precendence_constraints(timetable)\n"
   ]
  },
  {
   "cell_type": "markdown",
   "metadata": {},
   "source": [
    "Task 2.2: Algorithm Implementation\n",
    "\n",
    "Initial Solution Generation"
   ]
  },
  {
   "cell_type": "code",
   "execution_count": 11,
   "metadata": {},
   "outputs": [],
   "source": [
    "#First solution generation to put into the hill climber\n",
    "def generateFirstSolution():\n",
    "    solution = []\n",
    "    moduleAmount = []\n",
    "    for i in range(len(list)):\n",
    "        moduleAmount.append(list[i])\n",
    "        for j in range(int(list[i].labs)):\n",
    "            moduleAmount.append(Module(\n",
    "                list[i].moduleName,\n",
    "                list[i].moduleLeader,\n",
    "                list[i].labs,\n",
    "                list[i].clashes,\n",
    "                True\n",
    "            ))\n",
    "    #Make sure that the frame gets filled\n",
    "    while(len(moduleAmount) < 60):\n",
    "        moduleAmount.append(Module(\"\", \"\", 0, 0, False))\n",
    "    #Shuffled the array for a random solution\n",
    "    np.random.shuffle(moduleAmount)\n",
    "    timetable = pandas.DataFrame(columns=['LEC1','LAB1','LAB2'],index=range(0,20))\n",
    "    j = 0\n",
    "    k = 0\n",
    "    for i in range(len(moduleAmount)):\n",
    "        if i < 20:\n",
    "            timetable.loc[i, 'LEC1'] = moduleAmount[i]\n",
    "        elif i >= 20 and i < 40:\n",
    "            timetable.loc[j, 'LAB1'] = moduleAmount[i]\n",
    "            j += 1\n",
    "        elif i >= 40 and i < 60:\n",
    "            timetable.loc[k, 'LAB2'] = moduleAmount[i]\n",
    "            k += 1\n",
    "    solution.append(timetable)\n",
    "    return timetable\n",
    "#End of first solution generation"
   ]
  },
  {
   "cell_type": "markdown",
   "metadata": {},
   "source": [
    "Hillclimber"
   ]
  },
  {
   "cell_type": "code",
   "execution_count": 10,
   "metadata": {},
   "outputs": [],
   "source": [
    "##Start of comparison function\n",
    "def less_than_equal(a,b):\n",
    "    return a <= b\n",
    "#End of comparison function\n",
    "\n",
    "#Start of hill climber\n",
    "def hillclimber(Niter, timetable, fitness, mutation, compare):\n",
    "    #Initialise a random solution.\n",
    "    fitnessList = []\n",
    "    parent = timetable\n",
    "    parent_fitness = fitness(parent)\n",
    "    for i in range(Niter):\n",
    "        child = mutation(parent)\n",
    "        child_fitness = fitness(child)\n",
    "\n",
    "        if compare(child_fitness, parent_fitness):\n",
    "            parent = child\n",
    "            parent_fitness = child_fitness\n",
    "        fitnessList.append(parent_fitness)\n",
    "    \n",
    "    #Return the new parent, the fitness of the parent, and the fitness of each iteration\n",
    "    return parent, parent_fitness, fitnessList \n",
    "#End of hillclimber"
   ]
  },
  {
   "cell_type": "markdown",
   "metadata": {},
   "source": [
    "Task 2.3: Visualisation of Results\n",
    "\n",
    "Graph generation"
   ]
  },
  {
   "cell_type": "code",
   "execution_count": 9,
   "metadata": {},
   "outputs": [],
   "source": [
    "#Start of calculating max, min and average fitness\n",
    "def calculations(fitness):\n",
    "    maxi = []\n",
    "    mini = []\n",
    "    aver = []\n",
    "    for i in range(500):\n",
    "        currentIteration = []\n",
    "        for j in range(30):\n",
    "            currentIteration.append(fitness[j][i])\n",
    "        maxi.append(max(currentIteration))\n",
    "        mini.append(min(currentIteration))\n",
    "        aver.append(np.mean(currentIteration))\n",
    "    return maxi, mini, aver\n",
    "#End of calculating max, min and average fitness\n",
    "\n",
    "#Start of graph plotting\n",
    "def plotFitness(fitnessRuin, fitnessSwap):\n",
    "    maxiRuin, miniRuin, averRuin = calculations(fitnessRuin)\n",
    "    maxiSwap, miniSwap, averSwap = calculations(fitnessSwap)\n",
    "    plt.plot(maxiRuin, label = 'Maximum Ruin')\n",
    "    plt.plot(miniRuin, label = 'Minimum Ruin')\n",
    "    plt.plot(averRuin, label = 'Average Ruin')\n",
    "    plt.plot(maxiSwap, label = 'Maximum Swap')\n",
    "    plt.plot(miniSwap, label = 'Minimum Swap')\n",
    "    plt.plot(averSwap, label = 'Average Swap')\n",
    "    plt.ylabel('Fitness')\n",
    "    plt.xlabel('Iteration')\n",
    "    plt.legend()\n",
    "    plt.show()\n",
    "#End of graph plotting"
   ]
  },
  {
   "cell_type": "markdown",
   "metadata": {},
   "source": [
    "### Block to run for the optimisation to work"
   ]
  },
  {
   "cell_type": "code",
   "execution_count": 16,
   "metadata": {},
   "outputs": [
    {
     "data": {
      "image/png": "[encoded data removed]",
      "text/plain": [
       "<Figure size 432x288 with 1 Axes>"
      ]
     },
     "metadata": {
      "needs_background": "light"
     },
     "output_type": "display_data"
    }
   ],
   "source": [
    "#Incase first cell with imports isn't ran\n",
    "import pandas\n",
    "import numpy as np\n",
    "import random\n",
    "import matplotlib.pyplot as plt\n",
    "#End of imports\n",
    "\n",
    "timetable = generateFirstSolution()\n",
    "fitness_array = [[0 for j in range(500)] for k in range(30)]\n",
    "fitness2_array = [[0 for j in range(500)] for k in range(30)]\n",
    "for i in range(30):\n",
    "    x, y, fitnessList = hillclimber(500, timetable, fitness, RuinAndRecreate, less_than_equal)\n",
    "    fitness_array[i] = fitnessList\n",
    "    j, k, fitnessList2 = hillclimber(500, timetable, fitness, swapSession, less_than_equal)\n",
    "    fitness2_array[i] = fitnessList2\n",
    "\n",
    "plotFitness(fitness_array, fitness2_array)  "
   ]
  },
  {
   "cell_type": "markdown",
   "metadata": {},
   "source": [
    "Ultimately, the RuinAndRecreate function generates the better results when compared to Session Swapping. \n",
    "\n",
    "Since an entirely new timetable, there is an exponential possible swaps that can be made that can lead to a better solution.\n",
    "\n",
    "However, if only two modules are swapped, if its initial generation gives a high fitness, it would take a lot more iterations to generate a lower score than randomness."
   ]
  }
 ],
 "metadata": {
  "kernelspec": {
   "display_name": "Python 3",
   "language": "python",
   "name": "python3"
  },
  "language_info": {
   "codemirror_mode": {
    "name": "ipython",
    "version": 3
   },
   "file_extension": ".py",
   "mimetype": "text/x-python",
   "name": "python",
   "nbconvert_exporter": "python",
   "pygments_lexer": "ipython3",
   "version": "3.10.4"
  }
 },
 "nbformat": 4,
 "nbformat_minor": 2
}
